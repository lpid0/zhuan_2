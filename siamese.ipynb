{
 "cells": [
  {
   "cell_type": "markdown",
   "source": [
    "克隆仓库项目"
   ],
   "metadata": {
    "collapsed": false
   },
   "id": "5357fef6b27a2b63"
  },
  {
   "cell_type": "code",
   "execution_count": null,
   "outputs": [],
   "source": [
    "!git clone https://github.com/MagicalMadoka/siamese-pytorch.git"
   ],
   "metadata": {
    "collapsed": false
   },
   "id": "7ef2c3b94a3f1bbd"
  },
  {
   "cell_type": "markdown",
   "source": [
    "切换目录"
   ],
   "metadata": {
    "collapsed": false
   },
   "id": "ccc29f3ba06ce2d9"
  },
  {
   "cell_type": "code",
   "execution_count": null,
   "outputs": [],
   "source": [
    "import os\n",
    "\n",
    "os.chdir(\"siamese-pytorch\")"
   ],
   "metadata": {
    "collapsed": false
   },
   "id": "6df2a9e93b11495"
  },
  {
   "cell_type": "markdown",
   "source": [
    "安装依赖"
   ],
   "metadata": {
    "collapsed": false
   },
   "id": "57a800948b2759ec"
  },
  {
   "cell_type": "code",
   "execution_count": null,
   "outputs": [],
   "source": [
    "!pip install -r requirements.txt"
   ],
   "metadata": {
    "collapsed": false
   },
   "id": "ea6326686f5e5e2b"
  },
  {
   "cell_type": "markdown",
   "source": [
    "进行训练"
   ],
   "metadata": {
    "collapsed": false
   },
   "id": "3700f15a34b8f820"
  },
  {
   "cell_type": "code",
   "execution_count": null,
   "outputs": [],
   "source": [
    "!python main.py"
   ],
   "metadata": {
    "collapsed": false
   },
   "id": "679230db8c0e263"
  }
 ],
 "metadata": {
  "kernelspec": {
   "display_name": "Python 3",
   "language": "python",
   "name": "python3"
  },
  "language_info": {
   "codemirror_mode": {
    "name": "ipython",
    "version": 2
   },
   "file_extension": ".py",
   "mimetype": "text/x-python",
   "name": "python",
   "nbconvert_exporter": "python",
   "pygments_lexer": "ipython2",
   "version": "2.7.6"
  }
 },
 "nbformat": 4,
 "nbformat_minor": 5
}
